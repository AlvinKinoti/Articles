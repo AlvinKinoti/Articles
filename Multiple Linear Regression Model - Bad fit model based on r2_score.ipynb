{
 "cells": [
  {
   "cell_type": "code",
   "execution_count": 1,
   "id": "e4006574",
   "metadata": {},
   "outputs": [],
   "source": [
    "import pandas as pd\n",
    "import numpy as np\n",
    "import seaborn as sns\n",
    "import matplotlib.pyplot as plt\n",
    "from sklearn.model_selection import train_test_split\n",
    "from sklearn.metrics import r2_score"
   ]
  },
  {
   "cell_type": "code",
   "execution_count": 2,
   "id": "1ee590b7",
   "metadata": {},
   "outputs": [],
   "source": [
    "df = pd.read_csv('Order Details.csv')"
   ]
  },
  {
   "cell_type": "code",
   "execution_count": 3,
   "id": "16a2508a",
   "metadata": {},
   "outputs": [
    {
     "data": {
      "text/html": [
       "<div>\n",
       "<style scoped>\n",
       "    .dataframe tbody tr th:only-of-type {\n",
       "        vertical-align: middle;\n",
       "    }\n",
       "\n",
       "    .dataframe tbody tr th {\n",
       "        vertical-align: top;\n",
       "    }\n",
       "\n",
       "    .dataframe thead th {\n",
       "        text-align: right;\n",
       "    }\n",
       "</style>\n",
       "<table border=\"1\" class=\"dataframe\">\n",
       "  <thead>\n",
       "    <tr style=\"text-align: right;\">\n",
       "      <th></th>\n",
       "      <th>Order ID</th>\n",
       "      <th>Amount</th>\n",
       "      <th>Profit</th>\n",
       "      <th>Quantity</th>\n",
       "      <th>Category</th>\n",
       "      <th>Sub-Category</th>\n",
       "    </tr>\n",
       "  </thead>\n",
       "  <tbody>\n",
       "    <tr>\n",
       "      <th>0</th>\n",
       "      <td>B-25601</td>\n",
       "      <td>1275.0</td>\n",
       "      <td>-1148.0</td>\n",
       "      <td>7</td>\n",
       "      <td>Furniture</td>\n",
       "      <td>Bookcases</td>\n",
       "    </tr>\n",
       "    <tr>\n",
       "      <th>1</th>\n",
       "      <td>B-25601</td>\n",
       "      <td>66.0</td>\n",
       "      <td>-12.0</td>\n",
       "      <td>5</td>\n",
       "      <td>Clothing</td>\n",
       "      <td>Stole</td>\n",
       "    </tr>\n",
       "    <tr>\n",
       "      <th>2</th>\n",
       "      <td>B-25601</td>\n",
       "      <td>8.0</td>\n",
       "      <td>-2.0</td>\n",
       "      <td>3</td>\n",
       "      <td>Clothing</td>\n",
       "      <td>Hankerchief</td>\n",
       "    </tr>\n",
       "    <tr>\n",
       "      <th>3</th>\n",
       "      <td>B-25601</td>\n",
       "      <td>80.0</td>\n",
       "      <td>-56.0</td>\n",
       "      <td>4</td>\n",
       "      <td>Electronics</td>\n",
       "      <td>Electronic Games</td>\n",
       "    </tr>\n",
       "    <tr>\n",
       "      <th>4</th>\n",
       "      <td>B-25602</td>\n",
       "      <td>168.0</td>\n",
       "      <td>-111.0</td>\n",
       "      <td>2</td>\n",
       "      <td>Electronics</td>\n",
       "      <td>Phones</td>\n",
       "    </tr>\n",
       "  </tbody>\n",
       "</table>\n",
       "</div>"
      ],
      "text/plain": [
       "  Order ID  Amount  Profit  Quantity     Category      Sub-Category\n",
       "0  B-25601  1275.0 -1148.0         7    Furniture         Bookcases\n",
       "1  B-25601    66.0   -12.0         5     Clothing             Stole\n",
       "2  B-25601     8.0    -2.0         3     Clothing       Hankerchief\n",
       "3  B-25601    80.0   -56.0         4  Electronics  Electronic Games\n",
       "4  B-25602   168.0  -111.0         2  Electronics            Phones"
      ]
     },
     "execution_count": 3,
     "metadata": {},
     "output_type": "execute_result"
    }
   ],
   "source": [
    "df.head()"
   ]
  },
  {
   "cell_type": "code",
   "execution_count": 4,
   "id": "91a17408",
   "metadata": {},
   "outputs": [
    {
     "data": {
      "text/html": [
       "<div>\n",
       "<style scoped>\n",
       "    .dataframe tbody tr th:only-of-type {\n",
       "        vertical-align: middle;\n",
       "    }\n",
       "\n",
       "    .dataframe tbody tr th {\n",
       "        vertical-align: top;\n",
       "    }\n",
       "\n",
       "    .dataframe thead th {\n",
       "        text-align: right;\n",
       "    }\n",
       "</style>\n",
       "<table border=\"1\" class=\"dataframe\">\n",
       "  <thead>\n",
       "    <tr style=\"text-align: right;\">\n",
       "      <th></th>\n",
       "      <th>Order ID</th>\n",
       "      <th>Amount</th>\n",
       "      <th>Profit</th>\n",
       "      <th>Quantity</th>\n",
       "      <th>Category</th>\n",
       "      <th>Sub-Category</th>\n",
       "    </tr>\n",
       "  </thead>\n",
       "  <tbody>\n",
       "    <tr>\n",
       "      <th>1495</th>\n",
       "      <td>B-26099</td>\n",
       "      <td>835.0</td>\n",
       "      <td>267.0</td>\n",
       "      <td>5</td>\n",
       "      <td>Electronics</td>\n",
       "      <td>Phones</td>\n",
       "    </tr>\n",
       "    <tr>\n",
       "      <th>1496</th>\n",
       "      <td>B-26099</td>\n",
       "      <td>2366.0</td>\n",
       "      <td>552.0</td>\n",
       "      <td>5</td>\n",
       "      <td>Clothing</td>\n",
       "      <td>Trousers</td>\n",
       "    </tr>\n",
       "    <tr>\n",
       "      <th>1497</th>\n",
       "      <td>B-26100</td>\n",
       "      <td>828.0</td>\n",
       "      <td>230.0</td>\n",
       "      <td>2</td>\n",
       "      <td>Furniture</td>\n",
       "      <td>Chairs</td>\n",
       "    </tr>\n",
       "    <tr>\n",
       "      <th>1498</th>\n",
       "      <td>B-26100</td>\n",
       "      <td>34.0</td>\n",
       "      <td>10.0</td>\n",
       "      <td>2</td>\n",
       "      <td>Clothing</td>\n",
       "      <td>T-shirt</td>\n",
       "    </tr>\n",
       "    <tr>\n",
       "      <th>1499</th>\n",
       "      <td>B-26100</td>\n",
       "      <td>72.0</td>\n",
       "      <td>16.0</td>\n",
       "      <td>2</td>\n",
       "      <td>Clothing</td>\n",
       "      <td>Shirt</td>\n",
       "    </tr>\n",
       "  </tbody>\n",
       "</table>\n",
       "</div>"
      ],
      "text/plain": [
       "     Order ID  Amount  Profit  Quantity     Category Sub-Category\n",
       "1495  B-26099   835.0   267.0         5  Electronics       Phones\n",
       "1496  B-26099  2366.0   552.0         5     Clothing     Trousers\n",
       "1497  B-26100   828.0   230.0         2    Furniture       Chairs\n",
       "1498  B-26100    34.0    10.0         2     Clothing      T-shirt\n",
       "1499  B-26100    72.0    16.0         2     Clothing        Shirt"
      ]
     },
     "execution_count": 4,
     "metadata": {},
     "output_type": "execute_result"
    }
   ],
   "source": [
    "df.tail()"
   ]
  },
  {
   "cell_type": "code",
   "execution_count": 5,
   "id": "1b4a6f50",
   "metadata": {},
   "outputs": [
    {
     "data": {
      "text/plain": [
       "(1500, 6)"
      ]
     },
     "execution_count": 5,
     "metadata": {},
     "output_type": "execute_result"
    }
   ],
   "source": [
    "df.shape"
   ]
  },
  {
   "cell_type": "code",
   "execution_count": 7,
   "id": "029d63f4",
   "metadata": {},
   "outputs": [
    {
     "data": {
      "text/html": [
       "<div>\n",
       "<style scoped>\n",
       "    .dataframe tbody tr th:only-of-type {\n",
       "        vertical-align: middle;\n",
       "    }\n",
       "\n",
       "    .dataframe tbody tr th {\n",
       "        vertical-align: top;\n",
       "    }\n",
       "\n",
       "    .dataframe thead th {\n",
       "        text-align: right;\n",
       "    }\n",
       "</style>\n",
       "<table border=\"1\" class=\"dataframe\">\n",
       "  <thead>\n",
       "    <tr style=\"text-align: right;\">\n",
       "      <th></th>\n",
       "      <th>Amount</th>\n",
       "      <th>Profit</th>\n",
       "      <th>Quantity</th>\n",
       "    </tr>\n",
       "  </thead>\n",
       "  <tbody>\n",
       "    <tr>\n",
       "      <th>count</th>\n",
       "      <td>1500.000000</td>\n",
       "      <td>1500.000000</td>\n",
       "      <td>1500.000000</td>\n",
       "    </tr>\n",
       "    <tr>\n",
       "      <th>mean</th>\n",
       "      <td>287.668000</td>\n",
       "      <td>15.970000</td>\n",
       "      <td>3.743333</td>\n",
       "    </tr>\n",
       "    <tr>\n",
       "      <th>std</th>\n",
       "      <td>461.050488</td>\n",
       "      <td>169.140565</td>\n",
       "      <td>2.184942</td>\n",
       "    </tr>\n",
       "    <tr>\n",
       "      <th>min</th>\n",
       "      <td>4.000000</td>\n",
       "      <td>-1981.000000</td>\n",
       "      <td>1.000000</td>\n",
       "    </tr>\n",
       "    <tr>\n",
       "      <th>25%</th>\n",
       "      <td>45.000000</td>\n",
       "      <td>-9.250000</td>\n",
       "      <td>2.000000</td>\n",
       "    </tr>\n",
       "    <tr>\n",
       "      <th>50%</th>\n",
       "      <td>118.000000</td>\n",
       "      <td>9.000000</td>\n",
       "      <td>3.000000</td>\n",
       "    </tr>\n",
       "    <tr>\n",
       "      <th>75%</th>\n",
       "      <td>322.000000</td>\n",
       "      <td>38.000000</td>\n",
       "      <td>5.000000</td>\n",
       "    </tr>\n",
       "    <tr>\n",
       "      <th>max</th>\n",
       "      <td>5729.000000</td>\n",
       "      <td>1698.000000</td>\n",
       "      <td>14.000000</td>\n",
       "    </tr>\n",
       "  </tbody>\n",
       "</table>\n",
       "</div>"
      ],
      "text/plain": [
       "            Amount       Profit     Quantity\n",
       "count  1500.000000  1500.000000  1500.000000\n",
       "mean    287.668000    15.970000     3.743333\n",
       "std     461.050488   169.140565     2.184942\n",
       "min       4.000000 -1981.000000     1.000000\n",
       "25%      45.000000    -9.250000     2.000000\n",
       "50%     118.000000     9.000000     3.000000\n",
       "75%     322.000000    38.000000     5.000000\n",
       "max    5729.000000  1698.000000    14.000000"
      ]
     },
     "execution_count": 7,
     "metadata": {},
     "output_type": "execute_result"
    }
   ],
   "source": [
    "df.describe()"
   ]
  },
  {
   "cell_type": "code",
   "execution_count": 8,
   "id": "ab49d909",
   "metadata": {},
   "outputs": [
    {
     "data": {
      "text/plain": [
       "Order ID        0\n",
       "Amount          0\n",
       "Profit          0\n",
       "Quantity        0\n",
       "Category        0\n",
       "Sub-Category    0\n",
       "dtype: int64"
      ]
     },
     "execution_count": 8,
     "metadata": {},
     "output_type": "execute_result"
    }
   ],
   "source": [
    "df.isnull().sum()"
   ]
  },
  {
   "cell_type": "code",
   "execution_count": 9,
   "id": "0a7b2cff",
   "metadata": {},
   "outputs": [
    {
     "data": {
      "text/html": [
       "<div>\n",
       "<style scoped>\n",
       "    .dataframe tbody tr th:only-of-type {\n",
       "        vertical-align: middle;\n",
       "    }\n",
       "\n",
       "    .dataframe tbody tr th {\n",
       "        vertical-align: top;\n",
       "    }\n",
       "\n",
       "    .dataframe thead th {\n",
       "        text-align: right;\n",
       "    }\n",
       "</style>\n",
       "<table border=\"1\" class=\"dataframe\">\n",
       "  <thead>\n",
       "    <tr style=\"text-align: right;\">\n",
       "      <th></th>\n",
       "      <th>Order ID</th>\n",
       "      <th>Amount</th>\n",
       "      <th>Profit</th>\n",
       "      <th>Quantity</th>\n",
       "      <th>Category</th>\n",
       "      <th>Sub-Category</th>\n",
       "    </tr>\n",
       "  </thead>\n",
       "  <tbody>\n",
       "    <tr>\n",
       "      <th>0</th>\n",
       "      <td>B-25601</td>\n",
       "      <td>1275.0</td>\n",
       "      <td>-1148.0</td>\n",
       "      <td>7</td>\n",
       "      <td>Furniture</td>\n",
       "      <td>Bookcases</td>\n",
       "    </tr>\n",
       "    <tr>\n",
       "      <th>1</th>\n",
       "      <td>B-25601</td>\n",
       "      <td>66.0</td>\n",
       "      <td>-12.0</td>\n",
       "      <td>5</td>\n",
       "      <td>Clothing</td>\n",
       "      <td>Stole</td>\n",
       "    </tr>\n",
       "    <tr>\n",
       "      <th>2</th>\n",
       "      <td>B-25601</td>\n",
       "      <td>8.0</td>\n",
       "      <td>-2.0</td>\n",
       "      <td>3</td>\n",
       "      <td>Clothing</td>\n",
       "      <td>Hankerchief</td>\n",
       "    </tr>\n",
       "    <tr>\n",
       "      <th>3</th>\n",
       "      <td>B-25601</td>\n",
       "      <td>80.0</td>\n",
       "      <td>-56.0</td>\n",
       "      <td>4</td>\n",
       "      <td>Electronics</td>\n",
       "      <td>Electronic Games</td>\n",
       "    </tr>\n",
       "    <tr>\n",
       "      <th>4</th>\n",
       "      <td>B-25602</td>\n",
       "      <td>168.0</td>\n",
       "      <td>-111.0</td>\n",
       "      <td>2</td>\n",
       "      <td>Electronics</td>\n",
       "      <td>Phones</td>\n",
       "    </tr>\n",
       "    <tr>\n",
       "      <th>...</th>\n",
       "      <td>...</td>\n",
       "      <td>...</td>\n",
       "      <td>...</td>\n",
       "      <td>...</td>\n",
       "      <td>...</td>\n",
       "      <td>...</td>\n",
       "    </tr>\n",
       "    <tr>\n",
       "      <th>1495</th>\n",
       "      <td>B-26099</td>\n",
       "      <td>835.0</td>\n",
       "      <td>267.0</td>\n",
       "      <td>5</td>\n",
       "      <td>Electronics</td>\n",
       "      <td>Phones</td>\n",
       "    </tr>\n",
       "    <tr>\n",
       "      <th>1496</th>\n",
       "      <td>B-26099</td>\n",
       "      <td>2366.0</td>\n",
       "      <td>552.0</td>\n",
       "      <td>5</td>\n",
       "      <td>Clothing</td>\n",
       "      <td>Trousers</td>\n",
       "    </tr>\n",
       "    <tr>\n",
       "      <th>1497</th>\n",
       "      <td>B-26100</td>\n",
       "      <td>828.0</td>\n",
       "      <td>230.0</td>\n",
       "      <td>2</td>\n",
       "      <td>Furniture</td>\n",
       "      <td>Chairs</td>\n",
       "    </tr>\n",
       "    <tr>\n",
       "      <th>1498</th>\n",
       "      <td>B-26100</td>\n",
       "      <td>34.0</td>\n",
       "      <td>10.0</td>\n",
       "      <td>2</td>\n",
       "      <td>Clothing</td>\n",
       "      <td>T-shirt</td>\n",
       "    </tr>\n",
       "    <tr>\n",
       "      <th>1499</th>\n",
       "      <td>B-26100</td>\n",
       "      <td>72.0</td>\n",
       "      <td>16.0</td>\n",
       "      <td>2</td>\n",
       "      <td>Clothing</td>\n",
       "      <td>Shirt</td>\n",
       "    </tr>\n",
       "  </tbody>\n",
       "</table>\n",
       "<p>1500 rows × 6 columns</p>\n",
       "</div>"
      ],
      "text/plain": [
       "     Order ID  Amount  Profit  Quantity     Category      Sub-Category\n",
       "0     B-25601  1275.0 -1148.0         7    Furniture         Bookcases\n",
       "1     B-25601    66.0   -12.0         5     Clothing             Stole\n",
       "2     B-25601     8.0    -2.0         3     Clothing       Hankerchief\n",
       "3     B-25601    80.0   -56.0         4  Electronics  Electronic Games\n",
       "4     B-25602   168.0  -111.0         2  Electronics            Phones\n",
       "...       ...     ...     ...       ...          ...               ...\n",
       "1495  B-26099   835.0   267.0         5  Electronics            Phones\n",
       "1496  B-26099  2366.0   552.0         5     Clothing          Trousers\n",
       "1497  B-26100   828.0   230.0         2    Furniture            Chairs\n",
       "1498  B-26100    34.0    10.0         2     Clothing           T-shirt\n",
       "1499  B-26100    72.0    16.0         2     Clothing             Shirt\n",
       "\n",
       "[1500 rows x 6 columns]"
      ]
     },
     "execution_count": 9,
     "metadata": {},
     "output_type": "execute_result"
    }
   ],
   "source": [
    "df"
   ]
  },
  {
   "cell_type": "code",
   "execution_count": 11,
   "id": "16046adf",
   "metadata": {},
   "outputs": [],
   "source": [
    "df1 = df.drop(['Order ID', 'Category', 'Sub-Category'], axis = 1) "
   ]
  },
  {
   "cell_type": "code",
   "execution_count": 12,
   "id": "105d35a2",
   "metadata": {},
   "outputs": [
    {
     "data": {
      "text/html": [
       "<div>\n",
       "<style scoped>\n",
       "    .dataframe tbody tr th:only-of-type {\n",
       "        vertical-align: middle;\n",
       "    }\n",
       "\n",
       "    .dataframe tbody tr th {\n",
       "        vertical-align: top;\n",
       "    }\n",
       "\n",
       "    .dataframe thead th {\n",
       "        text-align: right;\n",
       "    }\n",
       "</style>\n",
       "<table border=\"1\" class=\"dataframe\">\n",
       "  <thead>\n",
       "    <tr style=\"text-align: right;\">\n",
       "      <th></th>\n",
       "      <th>Amount</th>\n",
       "      <th>Profit</th>\n",
       "      <th>Quantity</th>\n",
       "    </tr>\n",
       "  </thead>\n",
       "  <tbody>\n",
       "    <tr>\n",
       "      <th>0</th>\n",
       "      <td>1275.0</td>\n",
       "      <td>-1148.0</td>\n",
       "      <td>7</td>\n",
       "    </tr>\n",
       "    <tr>\n",
       "      <th>1</th>\n",
       "      <td>66.0</td>\n",
       "      <td>-12.0</td>\n",
       "      <td>5</td>\n",
       "    </tr>\n",
       "    <tr>\n",
       "      <th>2</th>\n",
       "      <td>8.0</td>\n",
       "      <td>-2.0</td>\n",
       "      <td>3</td>\n",
       "    </tr>\n",
       "    <tr>\n",
       "      <th>3</th>\n",
       "      <td>80.0</td>\n",
       "      <td>-56.0</td>\n",
       "      <td>4</td>\n",
       "    </tr>\n",
       "    <tr>\n",
       "      <th>4</th>\n",
       "      <td>168.0</td>\n",
       "      <td>-111.0</td>\n",
       "      <td>2</td>\n",
       "    </tr>\n",
       "  </tbody>\n",
       "</table>\n",
       "</div>"
      ],
      "text/plain": [
       "   Amount  Profit  Quantity\n",
       "0  1275.0 -1148.0         7\n",
       "1    66.0   -12.0         5\n",
       "2     8.0    -2.0         3\n",
       "3    80.0   -56.0         4\n",
       "4   168.0  -111.0         2"
      ]
     },
     "execution_count": 12,
     "metadata": {},
     "output_type": "execute_result"
    }
   ],
   "source": [
    "df1.head()"
   ]
  },
  {
   "cell_type": "code",
   "execution_count": 13,
   "id": "b378930b",
   "metadata": {},
   "outputs": [
    {
     "data": {
      "text/plain": [
       "Amount      0\n",
       "Profit      0\n",
       "Quantity    0\n",
       "dtype: int64"
      ]
     },
     "execution_count": 13,
     "metadata": {},
     "output_type": "execute_result"
    }
   ],
   "source": [
    "df1.isnull().sum()"
   ]
  },
  {
   "cell_type": "code",
   "execution_count": 16,
   "id": "4d271d60",
   "metadata": {},
   "outputs": [],
   "source": [
    "X = df1.drop(['Profit'], axis = 1).values\n",
    "y = df1['Profit'].values"
   ]
  },
  {
   "cell_type": "code",
   "execution_count": 17,
   "id": "ec9e3435",
   "metadata": {},
   "outputs": [],
   "source": [
    "X_train, X_test, y_train, y_test = train_test_split(X, y, test_size=0.25, random_state=0)"
   ]
  },
  {
   "cell_type": "code",
   "execution_count": 19,
   "id": "d15b5c7f",
   "metadata": {},
   "outputs": [],
   "source": [
    "from sklearn.linear_model import LinearRegression\n",
    "\n",
    "lr = LinearRegression()"
   ]
  },
  {
   "cell_type": "code",
   "execution_count": 20,
   "id": "8106cc71",
   "metadata": {},
   "outputs": [
    {
     "data": {
      "text/plain": [
       "LinearRegression()"
      ]
     },
     "execution_count": 20,
     "metadata": {},
     "output_type": "execute_result"
    }
   ],
   "source": [
    "lr.fit(X_train, y_train)"
   ]
  },
  {
   "cell_type": "code",
   "execution_count": 22,
   "id": "1302e45f",
   "metadata": {},
   "outputs": [
    {
     "data": {
      "text/plain": [
       "array([ 1.44975053e+01,  9.92005299e+01,  1.21480091e+01,  1.02907265e+01,\n",
       "        2.42973384e+01,  1.90657450e+01, -1.37560171e+01, -2.81223291e+00,\n",
       "       -1.18565863e+00, -8.46485547e+00,  1.47686010e+01,  1.09732610e+01,\n",
       "        1.06521875e+01,  1.06118001e+01,  3.02114662e+01,  2.97500496e+01,\n",
       "        3.36340023e+00,  1.10636263e+01,  8.17196517e+01,  1.12847442e+01,\n",
       "        1.81525022e+01, -1.10854474e+01,  3.05325398e+01,  3.35453896e+01,\n",
       "        1.77102665e+01,  3.20995458e+01,  3.50550410e-01, -1.13565431e+01,\n",
       "        1.23287396e+01,  8.53339963e+00, -8.73595118e+00, -9.36850784e+00,\n",
       "        5.51022940e+01,  2.99711675e+01, -1.74206044e+01,  1.62548322e+01,\n",
       "       -1.90875661e+01,  9.38707417e+00,  1.77506539e+01,  7.39903894e+00,\n",
       "        2.60450749e+01, -1.18987345e+01,  1.60836922e+01,  7.57976942e+00,\n",
       "        2.14152412e+01,  1.62548322e+01, -2.01719490e+01,  9.29670893e+00,\n",
       "        7.90084296e+00,  4.99956494e+00, -4.57915025e+00,  8.44303439e+00,\n",
       "        7.45807979e+01,  6.59557129e+01,  1.02715457e+01,  1.65605114e+00,\n",
       "        1.40456791e+01,  2.98999831e+01,  8.04641288e+01, -4.10654997e+01,\n",
       "        2.84041615e+01,  8.80449534e+00,  1.12564995e+02, -6.47682024e+00,\n",
       "        3.06150754e+00,  6.72609487e+00, -5.93462882e+00, -5.81346659e+00,\n",
       "        2.88655781e+01, -3.58513264e+00, -4.75717968e+01, -4.51723228e+01,\n",
       "        1.68066141e+01,  2.12368604e+02,  1.11943789e+01,  5.03995234e+00,\n",
       "       -6.43467203e-01,  1.77102665e+01,  1.51300620e+01, -2.73145809e+00,\n",
       "       -2.75415110e+01,  2.44376814e+01,  1.74474773e+02,  1.65355184e+01,\n",
       "        1.41360444e+01,  6.21646123e-01,  7.26828630e+00,  7.64188996e+01,\n",
       "       -8.19375976e+00, -6.03079796e-01, -2.44382960e+01, -1.69687782e+01,\n",
       "       -1.09105400e-02, -2.32039796e+01, -2.23503051e+01,  2.93577917e+01,\n",
       "       -4.57145142e+01,  1.92464755e+01,  3.77021905e+01,  5.77246467e+00,\n",
       "        2.90866960e+01,  2.78715605e+01, -1.09105400e-02,  1.88850145e+01,\n",
       "        3.37473266e+01,  7.62974725e+00,  8.26230391e+00,  2.31533873e+01,\n",
       "       -5.07345801e+01,  8.02376599e-01, -4.62259087e+01,  2.08230719e+01,\n",
       "       -8.82631642e+00,  1.43217991e+02,  7.76049989e+00,  1.66258836e+01,\n",
       "        2.01001500e+01, -8.73595118e+00,  1.11385972e+00,  1.33631446e+01,\n",
       "        4.42680559e+01, -9.19736779e+00,  1.04310696e+01, -8.10339452e+00,\n",
       "        1.44975053e+01,  4.35741785e+00,  5.38967489e+01, -3.72371490e-01,\n",
       "        1.34131225e+01,  1.78006317e+01,  2.61546210e+01, -1.05932338e+01,\n",
       "        4.09457487e+01,  6.59557129e+01,  1.00196308e+01,  2.36647817e+01,\n",
       "       -3.67549787e+00, -1.09105400e-02,  3.50550410e-01,  1.57626186e+01,\n",
       "       -3.48706857e+01,  1.39553139e+01, -1.01275778e-01,  7.62974725e+00,\n",
       "        7.12794323e+00, -3.86160478e+01,  1.86139188e+01,  1.61740574e+01,\n",
       "        9.11597846e+00,  1.50704937e+01,  6.27426869e+00,  1.68969793e+01,\n",
       "        1.00013817e+02,  1.31420267e+01,  7.10661440e+01,  3.75810283e+01,\n",
       "        1.30386127e+02, -7.85147965e+00, -3.25615769e+01,  7.04547939e+01,\n",
       "        1.71680750e+01, -1.69188004e+01,  1.72892372e+01,  1.96079364e+01,\n",
       "       -8.73595118e+00,  2.46184119e+01,  4.34643592e+01, -9.14562916e-01,\n",
       "       -3.95197002e+01, -1.13565431e+01,  7.00880672e+00,  1.02503391e+01,\n",
       "       -3.17482898e+01,  3.22090919e+01,  1.34456802e+00, -2.46498234e+01,\n",
       "        6.77842242e+01,  9.07559105e+00,  3.47701155e+01,  2.60238683e+01,\n",
       "       -2.01719490e+01,  4.48198377e+01,  2.63757388e+01, -3.26405909e+00,\n",
       "        3.10189495e+00,  1.24594922e+01, -1.74609918e+01,  2.43069288e+01,\n",
       "        2.18670674e+01,  2.63353514e+01,  7.17792106e+00,  2.51202159e+01,\n",
       "       -1.09105400e-02,  5.76287424e+00, -1.09529339e+00,  2.15785516e+00,\n",
       "        2.73928538e+02, -3.72371490e-01,  1.17269799e+01,  1.44975053e+01,\n",
       "        2.47991424e+01, -3.57243602e+01, -3.53628993e+01,  1.01599739e+01,\n",
       "        1.06521875e+01, -2.87180116e+00,  1.79813622e+01, -3.17369386e+00,\n",
       "        1.00696087e+01,  4.01516424e+01,  3.29724012e+01, -1.96297575e+01,\n",
       "       -1.72802613e+01, -1.45693042e+01,  9.61778248e+00,  4.26318912e+01,\n",
       "        2.68371555e+01,  6.54536440e+00,  5.59173419e+00,  2.72793912e+01,\n",
       "        1.49633923e+02,  6.45499916e+00,  1.49493315e+01, -8.19375976e+00,\n",
       "        1.75295360e+01,  6.36463392e+00,  7.35865154e+00, -1.68284352e+01,\n",
       "        1.62548322e+01,  2.47087772e+01,  2.63757388e+01, -1.62458563e+01,\n",
       "        1.64451531e+01, -2.83547982e+01,  3.98901371e+01,  7.48940418e+00,\n",
       "       -3.75816428e+01,  1.82524579e+01,  1.67162488e+01,  3.42296849e+00,\n",
       "       -9.59921615e+00,  4.79826211e+01,  2.87656224e+01,  1.54915229e+01,\n",
       "       -1.51253608e-01, -2.72704153e+01,  3.78425336e+01,  1.19000107e+02,\n",
       "        9.29670893e+00,  1.11943789e+01,  7.17792106e+00,  8.53339963e+00,\n",
       "        1.70777098e+01,  1.11539915e+01,  1.11539915e+01,  1.25998353e+01,\n",
       "        2.21901666e+01, -5.80387617e+00, -2.80837025e+01,  3.43586767e+01,\n",
       "       -2.05851402e+00, -1.13257461e+01,  3.64408637e+00,  9.43705200e+00,\n",
       "       -2.04892360e+00,  3.95786540e+01,  3.24223801e+00, -3.72371490e-01,\n",
       "        1.76199012e+01,  1.64451531e+01, -1.00510423e+01, -1.59247828e+01,\n",
       "        1.93368407e+01,  8.39305656e+00,  1.13347220e+01,  6.10663997e+01,\n",
       "       -3.85622835e+00,  1.62548322e+01, -2.02623142e+01,  1.01599739e+01,\n",
       "        5.79344133e+01,  5.27066065e+00, -1.09105400e-02,  2.37897304e+00,\n",
       "        1.86043284e+01,  8.08157344e+00,  9.47743941e+00,  7.99120820e+00,\n",
       "        4.66175521e+01, -1.07739642e+01, -4.74102472e+01,  4.36700827e+00,\n",
       "       -2.02315172e+01,  1.18269356e+01, -1.97201228e+01,  9.08869281e+01,\n",
       "        1.11620955e+02, -9.45887308e+00,  1.90559785e+02, -1.35752866e+01,\n",
       "        4.34951562e+01,  2.06019541e+01,  9.79851295e+00, -3.91579660e+00,\n",
       "        6.83360061e+01,  1.09232832e+01, -1.70995309e+01,  2.84137519e+01,\n",
       "        4.36700827e+00,  7.08755582e+00,  1.07021653e+01,  6.37465598e+01,\n",
       "        3.51333373e+00,  1.05618223e+01,  6.90682535e+00,  1.76199012e+01,\n",
       "        1.11943789e+01,  4.03323728e+01,  1.44071401e+01, -9.87031186e+00,\n",
       "        1.64451531e+01, -6.43467203e-01,  2.65160819e+01, -1.90875661e+01,\n",
       "        1.51300620e+01, -3.31941336e+01, -3.14368067e+01,  8.39305656e+00,\n",
       "       -1.33041909e+01,  2.86444602e+01,  6.27426869e+00, -9.45887308e+00,\n",
       "       -9.72996879e+00, -3.94659359e+00,  2.17767021e+01,  9.56780465e+00,\n",
       "       -1.36638910e+00,  8.44303439e+00,  4.07799842e+02, -2.86221074e+00,\n",
       "       -1.76417223e+01,  6.63572964e+00,  4.18993789e+01,  9.16595629e+00,\n",
       "        8.57378703e+00, -5.17131951e+00,  4.83057203e+01, -1.01451858e+00,\n",
       "       -1.14469083e+01,  1.35938529e+01, -2.95257597e+00,  2.95501383e+01,\n",
       "        9.32864021e+01, -2.77222415e+01,  4.99956494e+00, -1.72785005e+00,\n",
       "        7.53938201e+00,  1.23197296e+02,  1.23287396e+01, -1.00510423e+01,\n",
       "        5.61558798e+01,  1.94272060e+01, -1.76417223e+01, -2.30232491e+01,\n",
       "       -2.59111502e+00, -2.10756013e+01,  2.44780689e+01, -2.57342063e+01,\n",
       "       -1.94490270e+01,  2.80522909e+01,  7.35865154e+00, -3.10657553e+01,\n",
       "        8.57378703e+00, -2.23598955e+01, -1.12406466e+00])"
      ]
     },
     "execution_count": 22,
     "metadata": {},
     "output_type": "execute_result"
    }
   ],
   "source": [
    "y_pred = lr.predict(X_test)\n",
    "y_pred"
   ]
  },
  {
   "cell_type": "code",
   "execution_count": 23,
   "id": "425431bc",
   "metadata": {},
   "outputs": [
    {
     "data": {
      "text/plain": [
       "array([72.71392489])"
      ]
     },
     "execution_count": 23,
     "metadata": {},
     "output_type": "execute_result"
    }
   ],
   "source": [
    "lr.predict([[1275.0,7]])"
   ]
  },
  {
   "cell_type": "code",
   "execution_count": 24,
   "id": "b51c6074",
   "metadata": {},
   "outputs": [
    {
     "data": {
      "text/plain": [
       "0.06912246760161511"
      ]
     },
     "execution_count": 24,
     "metadata": {},
     "output_type": "execute_result"
    }
   ],
   "source": [
    "r2_score(y_test, y_pred)"
   ]
  },
  {
   "cell_type": "code",
   "execution_count": 25,
   "id": "50284d5a",
   "metadata": {},
   "outputs": [
    {
     "data": {
      "image/png": "[encoded data removed]",
      "text/plain": [
       "<Figure size 1000x500 with 1 Axes>"
      ]
     },
     "metadata": {},
     "output_type": "display_data"
    }
   ],
   "source": [
    "plt.figure(figsize= (10,5))\n",
    "plt.scatter(y_test, y_pred)\n",
    "plt.xlabel('Actual')\n",
    "plt.ylabel('Predicted')\n",
    "plt.title('Actual vs Predicted')\n",
    "plt.show()"
   ]
  },
  {
   "cell_type": "code",
   "execution_count": 26,
   "id": "ff452fcd",
   "metadata": {},
   "outputs": [
    {
     "data": {
      "text/html": [
       "<div>\n",
       "<style scoped>\n",
       "    .dataframe tbody tr th:only-of-type {\n",
       "        vertical-align: middle;\n",
       "    }\n",
       "\n",
       "    .dataframe tbody tr th {\n",
       "        vertical-align: top;\n",
       "    }\n",
       "\n",
       "    .dataframe thead th {\n",
       "        text-align: right;\n",
       "    }\n",
       "</style>\n",
       "<table border=\"1\" class=\"dataframe\">\n",
       "  <thead>\n",
       "    <tr style=\"text-align: right;\">\n",
       "      <th></th>\n",
       "      <th>Actual Values</th>\n",
       "      <th>Predicted Value</th>\n",
       "      <th>Difference</th>\n",
       "    </tr>\n",
       "  </thead>\n",
       "  <tbody>\n",
       "    <tr>\n",
       "      <th>0</th>\n",
       "      <td>9.0</td>\n",
       "      <td>14.497505</td>\n",
       "      <td>-5.497505</td>\n",
       "    </tr>\n",
       "    <tr>\n",
       "      <th>1</th>\n",
       "      <td>-60.0</td>\n",
       "      <td>99.200530</td>\n",
       "      <td>-159.200530</td>\n",
       "    </tr>\n",
       "    <tr>\n",
       "      <th>2</th>\n",
       "      <td>16.0</td>\n",
       "      <td>12.148009</td>\n",
       "      <td>3.851991</td>\n",
       "    </tr>\n",
       "    <tr>\n",
       "      <th>3</th>\n",
       "      <td>69.0</td>\n",
       "      <td>10.290727</td>\n",
       "      <td>58.709273</td>\n",
       "    </tr>\n",
       "    <tr>\n",
       "      <th>4</th>\n",
       "      <td>44.0</td>\n",
       "      <td>24.297338</td>\n",
       "      <td>19.702662</td>\n",
       "    </tr>\n",
       "    <tr>\n",
       "      <th>...</th>\n",
       "      <td>...</td>\n",
       "      <td>...</td>\n",
       "      <td>...</td>\n",
       "    </tr>\n",
       "    <tr>\n",
       "      <th>370</th>\n",
       "      <td>-2.0</td>\n",
       "      <td>7.358652</td>\n",
       "      <td>-9.358652</td>\n",
       "    </tr>\n",
       "    <tr>\n",
       "      <th>371</th>\n",
       "      <td>-9.0</td>\n",
       "      <td>-31.065755</td>\n",
       "      <td>22.065755</td>\n",
       "    </tr>\n",
       "    <tr>\n",
       "      <th>372</th>\n",
       "      <td>21.0</td>\n",
       "      <td>8.573787</td>\n",
       "      <td>12.426213</td>\n",
       "    </tr>\n",
       "    <tr>\n",
       "      <th>373</th>\n",
       "      <td>131.0</td>\n",
       "      <td>-22.359896</td>\n",
       "      <td>153.359896</td>\n",
       "    </tr>\n",
       "    <tr>\n",
       "      <th>374</th>\n",
       "      <td>114.0</td>\n",
       "      <td>-1.124065</td>\n",
       "      <td>115.124065</td>\n",
       "    </tr>\n",
       "  </tbody>\n",
       "</table>\n",
       "<p>375 rows × 3 columns</p>\n",
       "</div>"
      ],
      "text/plain": [
       "     Actual Values  Predicted Value  Difference\n",
       "0              9.0        14.497505   -5.497505\n",
       "1            -60.0        99.200530 -159.200530\n",
       "2             16.0        12.148009    3.851991\n",
       "3             69.0        10.290727   58.709273\n",
       "4             44.0        24.297338   19.702662\n",
       "..             ...              ...         ...\n",
       "370           -2.0         7.358652   -9.358652\n",
       "371           -9.0       -31.065755   22.065755\n",
       "372           21.0         8.573787   12.426213\n",
       "373          131.0       -22.359896  153.359896\n",
       "374          114.0        -1.124065  115.124065\n",
       "\n",
       "[375 rows x 3 columns]"
      ]
     },
     "execution_count": 26,
     "metadata": {},
     "output_type": "execute_result"
    }
   ],
   "source": [
    "pred_y_df = pd.DataFrame({'Actual Values' : y_test, 'Predicted Value' : y_pred, 'Difference' : y_test - y_pred})\n",
    "pred_y_df"
   ]
  },
  {
   "cell_type": "code",
   "execution_count": 27,
   "id": "6838d62c",
   "metadata": {},
   "outputs": [
    {
     "data": {
      "text/plain": [
       "<AxesSubplot:>"
      ]
     },
     "execution_count": 27,
     "metadata": {},
     "output_type": "execute_result"
    },
    {
     "data": {
      "image/png": "[encoded data removed]",
      "text/plain": [
       "<Figure size 640x480 with 2 Axes>"
      ]
     },
     "metadata": {},
     "output_type": "display_data"
    }
   ],
   "source": [
    "sns.heatmap(df1.corr())"
   ]
  },
  {
   "cell_type": "code",
   "execution_count": null,
   "id": "dd47173b",
   "metadata": {},
   "outputs": [],
   "source": []
  }
 ],
 "metadata": {
  "kernelspec": {
   "display_name": "Python 3 (ipykernel)",
   "language": "python",
   "name": "python3"
  },
  "language_info": {
   "codemirror_mode": {
    "name": "ipython",
    "version": 3
   },
   "file_extension": ".py",
   "mimetype": "text/x-python",
   "name": "python",
   "nbconvert_exporter": "python",
   "pygments_lexer": "ipython3",
   "version": "3.9.13"
  }
 },
 "nbformat": 4,
 "nbformat_minor": 5
}
